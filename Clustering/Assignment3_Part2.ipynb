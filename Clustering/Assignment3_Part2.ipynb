{
 "cells": [
  {
   "cell_type": "code",
   "execution_count": 157,
   "metadata": {
    "collapsed": true
   },
   "outputs": [],
   "source": [
    "import pandas as pd\n",
    "import math\n",
    "from sklearn.cluster import KMeans\n",
    "from sklearn.cluster import AgglomerativeClustering\n",
    "from sklearn.mixture import GaussianMixture\n",
    "import numpy as np"
   ]
  },
  {
   "cell_type": "code",
   "execution_count": 158,
   "metadata": {},
   "outputs": [],
   "source": [
    "dataset = pd.read_csv('dataset_Facebook.csv',sep=';')"
   ]
  },
  {
   "cell_type": "code",
   "execution_count": 159,
   "metadata": {
    "collapsed": true
   },
   "outputs": [],
   "source": [
    "#method to clean the dataset\n",
    "#based on the datatype of the attribute, the NaN values are replaced with standard values\n",
    "#if datatype is object, replaced with empty string\n",
    "#if datatype is int64, replaced with rounded off mean value\n",
    "#if datatype is float64, replaced with meanvalue\n",
    "def cleanDataFrame(data):\n",
    "    for i in range(0, data.shape[1]):\n",
    "        colValues = data.iloc[:,i:i+1].iloc[:,0]\n",
    "        colType = data.iloc[:,i:i+1].iloc[:,0].dtype\n",
    "        if colType == 'int64':\n",
    "            data.iloc[:,i:i+1] = data.iloc[:,i:i+1].fillna(round(colValues.mean()))\n",
    "        elif colType == 'float64':\n",
    "            data.iloc[:,i:i+1] = data.iloc[:,i:i+1].fillna(colValues.mean())        \n",
    "        elif colType == 'object':\n",
    "            data.iloc[:,i:i+1] = data.iloc[:,i:i+1].fillna('')        "
   ]
  },
  {
   "cell_type": "code",
   "execution_count": 160,
   "metadata": {},
   "outputs": [],
   "source": [
    "#cleaning both test and train data by calling the defined function\n",
    "cleanDataFrame(dataset)"
   ]
  },
  {
   "cell_type": "code",
   "execution_count": 161,
   "metadata": {
    "collapsed": true
   },
   "outputs": [],
   "source": [
    "for header in list(dataset):\n",
    "    if(dataset[header].dtypes=='O'):\n",
    "        dataset[header] = dataset[header].astype('category').cat.codes"
   ]
  },
  {
   "cell_type": "code",
   "execution_count": 162,
   "metadata": {},
   "outputs": [
    {
     "data": {
      "text/html": [
       "<div>\n",
       "<style>\n",
       "    .dataframe thead tr:only-child th {\n",
       "        text-align: right;\n",
       "    }\n",
       "\n",
       "    .dataframe thead th {\n",
       "        text-align: left;\n",
       "    }\n",
       "\n",
       "    .dataframe tbody tr th {\n",
       "        vertical-align: top;\n",
       "    }\n",
       "</style>\n",
       "<table border=\"1\" class=\"dataframe\">\n",
       "  <thead>\n",
       "    <tr style=\"text-align: right;\">\n",
       "      <th></th>\n",
       "      <th>Page total likes</th>\n",
       "      <th>Type</th>\n",
       "      <th>Category</th>\n",
       "      <th>Post Month</th>\n",
       "      <th>Post Weekday</th>\n",
       "      <th>Post Hour</th>\n",
       "      <th>Paid</th>\n",
       "      <th>Lifetime Post Total Reach</th>\n",
       "      <th>Lifetime Post Total Impressions</th>\n",
       "      <th>Lifetime Engaged Users</th>\n",
       "      <th>Lifetime Post Consumers</th>\n",
       "      <th>Lifetime Post Consumptions</th>\n",
       "      <th>Lifetime Post Impressions by people who have liked your Page</th>\n",
       "      <th>Lifetime Post reach by people who like your Page</th>\n",
       "      <th>Lifetime People who have liked your Page and engaged with your post</th>\n",
       "      <th>comment</th>\n",
       "      <th>like</th>\n",
       "      <th>share</th>\n",
       "      <th>Total Interactions</th>\n",
       "    </tr>\n",
       "  </thead>\n",
       "  <tbody>\n",
       "    <tr>\n",
       "      <th>0</th>\n",
       "      <td>123194.176</td>\n",
       "      <td>1.074</td>\n",
       "      <td>1.88</td>\n",
       "      <td>7.038</td>\n",
       "      <td>4.15</td>\n",
       "      <td>7.84</td>\n",
       "      <td>0.278557</td>\n",
       "      <td>13903.36</td>\n",
       "      <td>29585.948</td>\n",
       "      <td>920.344</td>\n",
       "      <td>798.772</td>\n",
       "      <td>1415.13</td>\n",
       "      <td>16766.376</td>\n",
       "      <td>6585.488</td>\n",
       "      <td>609.986</td>\n",
       "      <td>7.482</td>\n",
       "      <td>177.945892</td>\n",
       "      <td>27.266129</td>\n",
       "      <td>212.12</td>\n",
       "    </tr>\n",
       "  </tbody>\n",
       "</table>\n",
       "</div>"
      ],
      "text/plain": [
       "   Page total likes   Type  Category  Post Month  Post Weekday  Post Hour  \\\n",
       "0        123194.176  1.074      1.88       7.038          4.15       7.84   \n",
       "\n",
       "       Paid  Lifetime Post Total Reach  Lifetime Post Total Impressions  \\\n",
       "0  0.278557                   13903.36                        29585.948   \n",
       "\n",
       "   Lifetime Engaged Users  Lifetime Post Consumers  \\\n",
       "0                 920.344                  798.772   \n",
       "\n",
       "   Lifetime Post Consumptions  \\\n",
       "0                     1415.13   \n",
       "\n",
       "   Lifetime Post Impressions by people who have liked your Page  \\\n",
       "0                                          16766.376              \n",
       "\n",
       "   Lifetime Post reach by people who like your Page  \\\n",
       "0                                          6585.488   \n",
       "\n",
       "   Lifetime People who have liked your Page and engaged with your post  \\\n",
       "0                                            609.986                     \n",
       "\n",
       "   comment        like      share  Total Interactions  \n",
       "0    7.482  177.945892  27.266129              212.12  "
      ]
     },
     "execution_count": 162,
     "metadata": {},
     "output_type": "execute_result"
    }
   ],
   "source": [
    "centroid = dataset.mean().to_frame().T\n",
    "centroid"
   ]
  },
  {
   "cell_type": "code",
   "execution_count": 163,
   "metadata": {
    "collapsed": true
   },
   "outputs": [],
   "source": [
    "#Methood to find the total sum of squares for the dataset D and centroid C\n",
    "def findTSSforD(D, C):\n",
    "    mTSS = 0\n",
    "    for index, row in D.iterrows():\n",
    "        rowsum = 0\n",
    "        for header in list(D):   \n",
    "            rowsum += math.pow((row[header]-C[header]), 2)                 \n",
    "        mTSS += rowsum\n",
    "    return mTSS    "
   ]
  },
  {
   "cell_type": "code",
   "execution_count": 164,
   "metadata": {},
   "outputs": [
    {
     "name": "stdout",
     "output_type": "stream",
     "text": [
      "5150201201513.516\n"
     ]
    }
   ],
   "source": [
    "TSS = findTSSforD(dataset, centroid)\n",
    "print(TSS)"
   ]
  },
  {
   "cell_type": "code",
   "execution_count": 165,
   "metadata": {},
   "outputs": [
    {
     "name": "stdout",
     "output_type": "stream",
     "text": [
      "K-Means Clustering\n",
      "For k= 1  total within sum of squares/total sum of squares= 1.0000000000000002\n",
      "For k= 2  total within sum of squares/total sum of squares= 0.4218295697372187\n",
      "For k= 3  total within sum of squares/total sum of squares= 0.20559159729380097\n",
      "For k= 4  total within sum of squares/total sum of squares= 0.13893094177631723\n",
      "For k= 5  total within sum of squares/total sum of squares= 0.09925650124223634\n",
      "For k= 6  total within sum of squares/total sum of squares= 0.07205460575989185\n",
      "For k= 7  total within sum of squares/total sum of squares= 0.054014971304570954\n",
      "For k= 8  total within sum of squares/total sum of squares= 0.040997314987684656\n",
      "For k= 9  total within sum of squares/total sum of squares= 0.03427696459958252\n",
      "For k= 10  total within sum of squares/total sum of squares= 0.028749153052166847\n"
     ]
    }
   ],
   "source": [
    "print('K-Means Clustering')\n",
    "for k in range(1, 11):\n",
    "    kmeans = KMeans(n_clusters=k)\n",
    "    kmeans.fit(dataset)\n",
    "    kTSS = [None]*k\n",
    "    dataset['cluster'] = kmeans.labels_\n",
    "    for clustNum in range(0, k):\n",
    "        centroidForClust = pd.DataFrame(kmeans.cluster_centers_[clustNum]).T.iloc[:,0:19]             \n",
    "        centroidForClust.columns = list(dataset.iloc[:,0:19])        \n",
    "        kTSS[clustNum] = findTSSforD(dataset[dataset['cluster']==clustNum].iloc[:,0:19], centroidForClust)\n",
    "    TWSS = sum(kTSS) \n",
    "    print('For k=', k, ' total within sum of squares/total sum of squares=', TWSS/TSS)     "
   ]
  },
  {
   "cell_type": "code",
   "execution_count": 166,
   "metadata": {},
   "outputs": [
    {
     "name": "stdout",
     "output_type": "stream",
     "text": [
      "H-Clustering\n",
      "For k= 1  total within sum of squares/total sum of squares= 1.0\n",
      "For k= 2  total within sum of squares/total sum of squares= 0.4218295697372187\n",
      "For k= 3  total within sum of squares/total sum of squares= 0.20988978791170604\n",
      "For k= 4  total within sum of squares/total sum of squares= 0.1406854628175006\n",
      "For k= 5  total within sum of squares/total sum of squares= 0.10101102228341968\n",
      "For k= 6  total within sum of squares/total sum of squares= 0.07297862905979668\n",
      "For k= 7  total within sum of squares/total sum of squares= 0.054952118013899674\n",
      "For k= 8  total within sum of squares/total sum of squares= 0.045891171448596155\n",
      "For k= 9  total within sum of squares/total sum of squares= 0.03697644221153005\n",
      "For k= 10  total within sum of squares/total sum of squares= 0.030236784707162036\n"
     ]
    }
   ],
   "source": [
    "print('H-Clustering')\n",
    "for k in range(1, 11):\n",
    "    hcluster = AgglomerativeClustering(n_clusters=k)\n",
    "    hcluster.fit(dataset)\n",
    "    kTSS = [None]*k\n",
    "    dataset['cluster'] = hcluster.labels_\n",
    "    for clustNum in range(0, k):        \n",
    "        kTSS[clustNum] = findTSSforD(dataset[dataset['cluster']==clustNum].iloc[:,0:19], dataset[dataset['cluster']==clustNum].iloc[:,0:19].mean().to_frame().T)\n",
    "    TWSS = sum(kTSS)\n",
    "    print('For k=', k, ' total within sum of squares/total sum of squares=', TWSS/TSS)"
   ]
  },
  {
   "cell_type": "code",
   "execution_count": 167,
   "metadata": {
    "scrolled": true
   },
   "outputs": [
    {
     "name": "stdout",
     "output_type": "stream",
     "text": [
      "Gaussian Mixture Models\n",
      "For k= 1  total within sum of squares/total sum of squares= 1.0\n",
      "For k= 2  total within sum of squares/total sum of squares= 0.4218295697372187\n",
      "For k= 3  total within sum of squares/total sum of squares= 0.21479997257237857\n",
      "For k= 4  total within sum of squares/total sum of squares= 0.21276438608632445\n",
      "For k= 5  total within sum of squares/total sum of squares= 0.12724563299645558\n",
      "For k= 6  total within sum of squares/total sum of squares= 0.11825720086491838\n",
      "For k= 7  total within sum of squares/total sum of squares= 0.07395488845928191\n",
      "For k= 8  total within sum of squares/total sum of squares= 0.06806746016547731\n",
      "For k= 9  total within sum of squares/total sum of squares= 0.05144811636386741\n",
      "For k= 10  total within sum of squares/total sum of squares= 0.04638378817334704\n"
     ]
    }
   ],
   "source": [
    "print('Gaussian Mixture Models')\n",
    "for k in range(1, 11):\n",
    "    gmm = GaussianMixture(n_components=k, reg_covar=1e-4)\n",
    "    gmm.fit(dataset)\n",
    "    #print(gmm.means_)\n",
    "    kTSS = [None]*k\n",
    "    dataset['cluster'] = gmm.predict(dataset)\n",
    "    for clustNum in range(0, k):        \n",
    "        kTSS[clustNum] = findTSSforD(dataset[dataset['cluster']==clustNum].iloc[:,0:19], dataset[dataset['cluster']==clustNum].iloc[:,0:19].mean().to_frame().T)\n",
    "    TWSS = sum(kTSS) \n",
    "    print('For k=', k, ' total within sum of squares/total sum of squares=', TWSS/TSS)"
   ]
  },
  {
   "cell_type": "code",
   "execution_count": null,
   "metadata": {
    "collapsed": true
   },
   "outputs": [],
   "source": []
  }
 ],
 "metadata": {
  "kernelspec": {
   "display_name": "Python 3",
   "language": "python",
   "name": "python3"
  },
  "language_info": {
   "codemirror_mode": {
    "name": "ipython",
    "version": 3
   },
   "file_extension": ".py",
   "mimetype": "text/x-python",
   "name": "python",
   "nbconvert_exporter": "python",
   "pygments_lexer": "ipython3",
   "version": "3.6.3"
  }
 },
 "nbformat": 4,
 "nbformat_minor": 2
}
