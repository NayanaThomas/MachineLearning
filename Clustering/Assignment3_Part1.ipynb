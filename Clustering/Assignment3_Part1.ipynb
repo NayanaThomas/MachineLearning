{
 "cells": [
  {
   "cell_type": "code",
   "execution_count": 83,
   "metadata": {
    "collapsed": true
   },
   "outputs": [],
   "source": [
    "import pandas as pd\n",
    "import math\n",
    "from sklearn.cluster import KMeans\n",
    "from sklearn.cluster import AgglomerativeClustering\n",
    "from sklearn.mixture import GaussianMixture\n",
    "import numpy as np"
   ]
  },
  {
   "cell_type": "code",
   "execution_count": 84,
   "metadata": {},
   "outputs": [],
   "source": [
    "dataset = pd.read_csv('Frogs_MFCCs.csv')\n",
    "dataset=dataset.drop(dataset.columns[[0, 22, 23, 24, 25]], axis=1)"
   ]
  },
  {
   "cell_type": "code",
   "execution_count": 85,
   "metadata": {
    "collapsed": true
   },
   "outputs": [],
   "source": [
    "#method to clean the dataset\n",
    "#based on the datatype of the attribute, the NaN values are replaced with standard values\n",
    "#if datatype is object, replaced with empty string\n",
    "#if datatype is int64, replaced with rounded off mean value\n",
    "#if datatype is float64, replaced with meanvalue\n",
    "def cleanDataFrame(data):\n",
    "    for i in range(0, data.shape[1]):\n",
    "        colValues = data.iloc[:,i:i+1].iloc[:,0]\n",
    "        colType = data.iloc[:,i:i+1].iloc[:,0].dtype\n",
    "        if colType == 'int64':\n",
    "            data.iloc[:,i:i+1] = data.iloc[:,i:i+1].fillna(round(colValues.mean()))\n",
    "        elif colType == 'float64':\n",
    "            data.iloc[:,i:i+1] = data.iloc[:,i:i+1].fillna(colValues.mean())        \n",
    "        elif colType == 'object':\n",
    "            data.iloc[:,i:i+1] = data.iloc[:,i:i+1].fillna('')"
   ]
  },
  {
   "cell_type": "code",
   "execution_count": 86,
   "metadata": {
    "collapsed": true
   },
   "outputs": [],
   "source": [
    "cleanDataFrame(dataset)"
   ]
  },
  {
   "cell_type": "code",
   "execution_count": 87,
   "metadata": {},
   "outputs": [],
   "source": [
    "#changing object attributes to categorical attributes \n",
    "for header in list(dataset):\n",
    "    if(dataset[header].dtypes=='O'):\n",
    "        dataset[header] = dataset[header].astype('category').cat.codes       "
   ]
  },
  {
   "cell_type": "code",
   "execution_count": 88,
   "metadata": {},
   "outputs": [],
   "source": [
    "#centroid of the dataset\n",
    "centroid = dataset.mean().to_frame().T"
   ]
  },
  {
   "cell_type": "code",
   "execution_count": 89,
   "metadata": {
    "collapsed": true
   },
   "outputs": [],
   "source": [
    "#Methood to find the total sum of squares for the dataset D and centroid C\n",
    "def findTSSforD(D, C):\n",
    "    mTSS = 0\n",
    "    for index, row in D.iterrows():\n",
    "        rowsum = 0\n",
    "        for header in list(D):            \n",
    "            rowsum += math.pow((row[header]-C[header]), 2)                 \n",
    "        mTSS += rowsum\n",
    "    return mTSS    "
   ]
  },
  {
   "cell_type": "code",
   "execution_count": 90,
   "metadata": {
    "scrolled": true
   },
   "outputs": [
    {
     "name": "stdout",
     "output_type": "stream",
     "text": [
      "3693.2580926313963\n"
     ]
    }
   ],
   "source": [
    "#total sum of squares of the data set\n",
    "TSS = findTSSforD(dataset, centroid)\n",
    "print(TSS)"
   ]
  },
  {
   "cell_type": "code",
   "execution_count": 91,
   "metadata": {
    "scrolled": true
   },
   "outputs": [
    {
     "name": "stdout",
     "output_type": "stream",
     "text": [
      "K-Means Clustering\n",
      "For k= 1 total within sum of squares/total sum of squares= 1.0000000000000002\n",
      "For k= 2 total within sum of squares/total sum of squares= 0.6584850467058518\n",
      "For k= 3 total within sum of squares/total sum of squares= 0.5303531912183984\n",
      "For k= 4 total within sum of squares/total sum of squares= 0.46660132577458086\n",
      "For k= 5 total within sum of squares/total sum of squares= 0.42089511187065076\n",
      "For k= 6 total within sum of squares/total sum of squares= 0.388914282168457\n",
      "For k= 7 total within sum of squares/total sum of squares= 0.35789363101678234\n",
      "For k= 8 total within sum of squares/total sum of squares= 0.33060144345315245\n",
      "For k= 9 total within sum of squares/total sum of squares= 0.3094970593322418\n",
      "For k= 10 total within sum of squares/total sum of squares= 0.28956087743177633\n"
     ]
    }
   ],
   "source": [
    "print('K-Means Clustering')\n",
    "for k in range(1, 11):\n",
    "    kmeans = KMeans(n_clusters=k)\n",
    "    kmeans.fit(dataset)\n",
    "    kTSS = [None]*k\n",
    "    dataset['cluster'] = kmeans.labels_\n",
    "    for clustNum in range(0, k):\n",
    "        centroidForClust = pd.DataFrame(kmeans.cluster_centers_[clustNum]).T.iloc[:,0:21]             \n",
    "        centroidForClust.columns = list(dataset.iloc[:,0:21])        \n",
    "        kTSS[clustNum] = findTSSforD(dataset[dataset['cluster']==clustNum].iloc[:,0:21], centroidForClust)\n",
    "    TWSS = sum(kTSS) \n",
    "    print('For k=',k, 'total within sum of squares/total sum of squares=', TWSS/TSS)     "
   ]
  },
  {
   "cell_type": "code",
   "execution_count": 92,
   "metadata": {},
   "outputs": [
    {
     "name": "stdout",
     "output_type": "stream",
     "text": [
      "H-Clustering\n",
      "For k= 1  total within sum of squares/total sum of squares= 1.0\n",
      "For k= 2  total within sum of squares/total sum of squares= 0.6627921553377006\n",
      "For k= 3  total within sum of squares/total sum of squares= 0.5549805607077856\n",
      "For k= 4  total within sum of squares/total sum of squares= 0.48130348442994947\n",
      "For k= 5  total within sum of squares/total sum of squares= 0.4267721055557141\n",
      "For k= 6  total within sum of squares/total sum of squares= 0.38856566261423087\n",
      "For k= 7  total within sum of squares/total sum of squares= 0.3622004054856775\n",
      "For k= 8  total within sum of squares/total sum of squares= 0.3389011165136607\n",
      "For k= 9  total within sum of squares/total sum of squares= 0.31641535950554867\n",
      "For k= 10  total within sum of squares/total sum of squares= 0.30056773025965355\n"
     ]
    }
   ],
   "source": [
    "print('H-Clustering')\n",
    "for k in range(1, 11):\n",
    "    hcluster = AgglomerativeClustering(n_clusters=k)\n",
    "    hcluster.fit(dataset)\n",
    "    kTSS = [None]*k\n",
    "    dataset['cluster'] = hcluster.labels_\n",
    "    for clustNum in range(0, k):        \n",
    "        kTSS[clustNum] = findTSSforD(dataset[dataset['cluster']==clustNum].iloc[:,0:21], dataset[dataset['cluster']==clustNum].iloc[:,0:21].mean().to_frame().T)\n",
    "    TWSS = sum(kTSS) \n",
    "    print('For k=', k, ' total within sum of squares/total sum of squares=', TWSS/TSS)"
   ]
  },
  {
   "cell_type": "code",
   "execution_count": 93,
   "metadata": {},
   "outputs": [
    {
     "name": "stdout",
     "output_type": "stream",
     "text": [
      "Gaussian Mixture Models\n",
      "For k= 1  total within sum of squares/total sum of squares= 1.0\n",
      "For k= 2  total within sum of squares/total sum of squares= 0.6972745750248325\n",
      "For k= 3  total within sum of squares/total sum of squares= 0.6134034859977475\n",
      "For k= 4  total within sum of squares/total sum of squares= 0.5632981136742243\n",
      "For k= 5  total within sum of squares/total sum of squares= 0.6598766270051774\n",
      "For k= 6  total within sum of squares/total sum of squares= 0.4660743632868852\n",
      "For k= 7  total within sum of squares/total sum of squares= 0.41203341053823545\n",
      "For k= 8  total within sum of squares/total sum of squares= 0.3967960618127207\n",
      "For k= 9  total within sum of squares/total sum of squares= 0.3899079998749755\n",
      "For k= 10  total within sum of squares/total sum of squares= 0.3759276633997933\n"
     ]
    }
   ],
   "source": [
    "print('Gaussian Mixture Models')\n",
    "for k in range(1, 11):\n",
    "    gmm = GaussianMixture(n_components=k)\n",
    "    gmm.fit(dataset)\n",
    "    kTSS = [None]*k\n",
    "    dataset['cluster'] = gmm.predict(dataset)\n",
    "    for clustNum in range(0, k):        \n",
    "        kTSS[clustNum] = findTSSforD(dataset[dataset['cluster']==clustNum].iloc[:,0:21], dataset[dataset['cluster']==clustNum].iloc[:,0:21].mean().to_frame().T)\n",
    "    TWSS = sum(kTSS) \n",
    "    print('For k=', k, ' total within sum of squares/total sum of squares=', TWSS/TSS)"
   ]
  },
  {
   "cell_type": "code",
   "execution_count": null,
   "metadata": {
    "collapsed": true
   },
   "outputs": [],
   "source": []
  },
  {
   "cell_type": "code",
   "execution_count": null,
   "metadata": {
    "collapsed": true
   },
   "outputs": [],
   "source": []
  }
 ],
 "metadata": {
  "kernelspec": {
   "display_name": "Python 3",
   "language": "python",
   "name": "python3"
  },
  "language_info": {
   "codemirror_mode": {
    "name": "ipython",
    "version": 3
   },
   "file_extension": ".py",
   "mimetype": "text/x-python",
   "name": "python",
   "nbconvert_exporter": "python",
   "pygments_lexer": "ipython3",
   "version": "3.6.3"
  }
 },
 "nbformat": 4,
 "nbformat_minor": 2
}
